{
  "cells": [
    {
      "cell_type": "code",
      "execution_count": 2,
      "metadata": {
        "id": "L4-bWs7ZuIwG"
      },
      "outputs": [],
      "source": [
        "import matplotlib.pyplot as plt\n",
        "import pandas as pd\n",
        "import numpy as np\n",
        "import cv2\n",
        "import PIL\n",
        "from tensorflow.keras import models , layers\n",
        "\n",
        "\n",
        "plt.rcParams['figure.figsize'] = (10.0, 8.0)\n",
        "plt.rcParams['font.size'] = 16\n",
        "\n"
      ]
    },
    {
      "cell_type": "code",
      "execution_count": 3,
      "metadata": {
        "colab": {
          "base_uri": "https://localhost:8080/"
        },
        "id": "tPFEwvPk1oiG",
        "outputId": "0658c8e0-d907-4fbd-9acd-e8cb687a7600"
      },
      "outputs": [],
      "source": [
        "train_path_fake =[]\n",
        "\n",
        "path_1 = r\"C:\\\\Users\\\\lizha\\\\Desktop\\\\maddata\\\\archive\\\\train\\\\FAKE\\\\\\\\\"\n",
        "# Creating path for every picture\n",
        "for i in range(1000,6000):\n",
        "    a = '{}{}.jpg'.format(path_1, i)\n",
        "    # for specific format such like \"1000(2)\"\n",
        "    train_path_fake.append(a)\n",
        "    for j in range(2,11):\n",
        "        b = '{}{} ({}).jpg'.format(path_1, i, j)\n",
        "        train_path_fake.append(b)\n"
      ]
    },
    {
      "cell_type": "code",
      "execution_count": 4,
      "metadata": {
        "id": "rQu1YHgv7RVj"
      },
      "outputs": [],
      "source": [
        "train_path_real=[]\n",
        "\n",
        "path_2 = r\"C:\\\\Users\\\\lizha\\\\Desktop\\\\maddata\\\\archive\\\\train\\\\REAL\\\\\\\\\"\n",
        "\n",
        "#Since the name order for real is from 0001,therefore we need to create 4 different loop for eachkind of name\n",
        "for i in range(0,10):\n",
        "    c = '{}000{}.jpg'.format(path_2, i)\n",
        "    train_path_real.append(c)\n",
        "    for j in range(2,11):\n",
        "        d = '{}000{} ({}).jpg'.format(path_2, i,j)\n",
        "        train_path_real.append(d)\n",
        "\n",
        "for i in range(10,100):\n",
        "    e = '{}00{}.jpg'.format(path_2, i)\n",
        "    train_path_real.append(e)\n",
        "    for j in range(2,11):\n",
        "        f = '{}00{} ({}).jpg'.format(path_2, i,j)\n",
        "        train_path_real.append(f)\n",
        "\n",
        "for i in range(100,1000):\n",
        "    g = '{}0{}.jpg'.format(path_2, i)\n",
        "    train_path_real.append(g)\n",
        "    for j in range(2,11):\n",
        "        h = '{}0{} ({}).jpg'.format(path_2, i,j)\n",
        "        train_path_real.append(h)\n",
        "\n",
        "for i in range(1000,5000):\n",
        "    k = '{}{}.jpg'.format(path_2, i)\n",
        "    train_path_real.append(k)\n",
        "    for j in range(2,11):\n",
        "        l = '{}{} ({}).jpg'.format(path_2, i,j)\n",
        "        train_path_real.append(l)"
      ]
    },
    {
      "cell_type": "code",
      "execution_count": 5,
      "metadata": {
        "colab": {
          "base_uri": "https://localhost:8080/",
          "height": 206
        },
        "id": "go_lpFmA5iQ6",
        "outputId": "c217cd40-25bd-45d1-ad10-2543f905a408"
      },
      "outputs": [],
      "source": [
        "#turn the path to dataframe and set it's label\n",
        "df_train_fake = pd.DataFrame(train_path_fake)\n",
        "df_train_fake.columns = ['path']\n",
        "df_train_fake['label'] = 0\n",
        "\n",
        "df_train_real = pd.DataFrame(train_path_real)\n",
        "df_train_real.columns = ['path']\n",
        "df_train_real['label'] = 1\n",
        "\n",
        "#Concat 2 df for future use\n",
        "df_train = pd.concat((df_train_fake, df_train_real), axis = 0 )"
      ]
    },
    {
      "cell_type": "code",
      "execution_count": 6,
      "metadata": {
        "colab": {
          "base_uri": "https://localhost:8080/"
        },
        "id": "kI9uvLPz-uvj",
        "outputId": "b6b16947-76d9-4e93-f909-96c98ce321c3"
      },
      "outputs": [],
      "source": [
        "test_path_fake =[]\n",
        "#Similar percedure\n",
        "path_3 = r\"C:\\Users\\lizha\\Desktop\\maddata\\archive\\test\\FAKE\\\\\"\n",
        "\n",
        "for i in range(0,1000):\n",
        "    m = '{}{}.jpg'.format(path_3, i)\n",
        "    test_path_fake.append(m)\n",
        "    for j in range(2,11):\n",
        "        n = '{}{} ({}).jpg'.format(path_3, i, j)\n",
        "        test_path_fake.append(n)"
      ]
    },
    {
      "cell_type": "code",
      "execution_count": 7,
      "metadata": {
        "id": "TAbGdH8gB2Vf"
      },
      "outputs": [],
      "source": [
        "test_path_real =[]\n",
        "#Similar percedure\n",
        "path_4 = r\"C:\\Users\\lizha\\Desktop\\maddata\\archive\\test\\REAL\\\\\"\n",
        "\n",
        "for i in range(0,10):\n",
        "    o = '{}000{}.jpg'.format(path_4, i)\n",
        "    test_path_real.append(o)\n",
        "    for j in range(2,11):\n",
        "        p = '{}000{} ({}).jpg'.format(path_4, i,j)\n",
        "        test_path_real.append(p)\n",
        "\n",
        "for i in range(10,100):\n",
        "    q = '{}00{}.jpg'.format(path_4, i)\n",
        "    test_path_real.append(q)\n",
        "    for j in range(2,11):\n",
        "        r = '{}00{} ({}).jpg'.format(path_4, i,j)\n",
        "        test_path_real.append(r)\n",
        "\n",
        "for i in range(100,1000):\n",
        "    s = '{}0{}.jpg'.format(path_4, i)\n",
        "    test_path_real.append(s)\n",
        "    for j in range(2,11):\n",
        "        t = '{}0{} ({}).jpg'.format(path_4, i,j)\n",
        "        test_path_real.append(t)\n"
      ]
    },
    {
      "cell_type": "code",
      "execution_count": 8,
      "metadata": {
        "id": "9mWVIGEqCqwq"
      },
      "outputs": [
        {
          "data": {
            "text/html": [
              "<div>\n",
              "<style scoped>\n",
              "    .dataframe tbody tr th:only-of-type {\n",
              "        vertical-align: middle;\n",
              "    }\n",
              "\n",
              "    .dataframe tbody tr th {\n",
              "        vertical-align: top;\n",
              "    }\n",
              "\n",
              "    .dataframe thead th {\n",
              "        text-align: right;\n",
              "    }\n",
              "</style>\n",
              "<table border=\"1\" class=\"dataframe\">\n",
              "  <thead>\n",
              "    <tr style=\"text-align: right;\">\n",
              "      <th></th>\n",
              "      <th>path</th>\n",
              "      <th>label</th>\n",
              "    </tr>\n",
              "  </thead>\n",
              "  <tbody>\n",
              "    <tr>\n",
              "      <th>0</th>\n",
              "      <td>C:\\Users\\lizha\\Desktop\\maddata\\archive\\test\\FA...</td>\n",
              "      <td>0</td>\n",
              "    </tr>\n",
              "    <tr>\n",
              "      <th>1</th>\n",
              "      <td>C:\\Users\\lizha\\Desktop\\maddata\\archive\\test\\FA...</td>\n",
              "      <td>0</td>\n",
              "    </tr>\n",
              "    <tr>\n",
              "      <th>2</th>\n",
              "      <td>C:\\Users\\lizha\\Desktop\\maddata\\archive\\test\\FA...</td>\n",
              "      <td>0</td>\n",
              "    </tr>\n",
              "    <tr>\n",
              "      <th>3</th>\n",
              "      <td>C:\\Users\\lizha\\Desktop\\maddata\\archive\\test\\FA...</td>\n",
              "      <td>0</td>\n",
              "    </tr>\n",
              "    <tr>\n",
              "      <th>4</th>\n",
              "      <td>C:\\Users\\lizha\\Desktop\\maddata\\archive\\test\\FA...</td>\n",
              "      <td>0</td>\n",
              "    </tr>\n",
              "    <tr>\n",
              "      <th>...</th>\n",
              "      <td>...</td>\n",
              "      <td>...</td>\n",
              "    </tr>\n",
              "    <tr>\n",
              "      <th>9995</th>\n",
              "      <td>C:\\Users\\lizha\\Desktop\\maddata\\archive\\test\\RE...</td>\n",
              "      <td>1</td>\n",
              "    </tr>\n",
              "    <tr>\n",
              "      <th>9996</th>\n",
              "      <td>C:\\Users\\lizha\\Desktop\\maddata\\archive\\test\\RE...</td>\n",
              "      <td>1</td>\n",
              "    </tr>\n",
              "    <tr>\n",
              "      <th>9997</th>\n",
              "      <td>C:\\Users\\lizha\\Desktop\\maddata\\archive\\test\\RE...</td>\n",
              "      <td>1</td>\n",
              "    </tr>\n",
              "    <tr>\n",
              "      <th>9998</th>\n",
              "      <td>C:\\Users\\lizha\\Desktop\\maddata\\archive\\test\\RE...</td>\n",
              "      <td>1</td>\n",
              "    </tr>\n",
              "    <tr>\n",
              "      <th>9999</th>\n",
              "      <td>C:\\Users\\lizha\\Desktop\\maddata\\archive\\test\\RE...</td>\n",
              "      <td>1</td>\n",
              "    </tr>\n",
              "  </tbody>\n",
              "</table>\n",
              "<p>20000 rows × 2 columns</p>\n",
              "</div>"
            ],
            "text/plain": [
              "                                                   path  label\n",
              "0     C:\\Users\\lizha\\Desktop\\maddata\\archive\\test\\FA...      0\n",
              "1     C:\\Users\\lizha\\Desktop\\maddata\\archive\\test\\FA...      0\n",
              "2     C:\\Users\\lizha\\Desktop\\maddata\\archive\\test\\FA...      0\n",
              "3     C:\\Users\\lizha\\Desktop\\maddata\\archive\\test\\FA...      0\n",
              "4     C:\\Users\\lizha\\Desktop\\maddata\\archive\\test\\FA...      0\n",
              "...                                                 ...    ...\n",
              "9995  C:\\Users\\lizha\\Desktop\\maddata\\archive\\test\\RE...      1\n",
              "9996  C:\\Users\\lizha\\Desktop\\maddata\\archive\\test\\RE...      1\n",
              "9997  C:\\Users\\lizha\\Desktop\\maddata\\archive\\test\\RE...      1\n",
              "9998  C:\\Users\\lizha\\Desktop\\maddata\\archive\\test\\RE...      1\n",
              "9999  C:\\Users\\lizha\\Desktop\\maddata\\archive\\test\\RE...      1\n",
              "\n",
              "[20000 rows x 2 columns]"
            ]
          },
          "execution_count": 8,
          "metadata": {},
          "output_type": "execute_result"
        }
      ],
      "source": [
        "#Similar percedure\n",
        "df_test_fake = pd.DataFrame(test_path_fake)\n",
        "df_test_fake.columns = ['path']\n",
        "df_test_fake['label'] = 0\n",
        "\n",
        "df_test_real = pd.DataFrame(test_path_real)\n",
        "df_test_real.columns = ['path']\n",
        "df_test_real['label'] = 1\n",
        "\n",
        "df_test = pd.concat((df_test_fake, df_test_real), axis = 0 ) \n",
        "\n",
        "df_test"
      ]
    },
    {
      "cell_type": "code",
      "execution_count": 9,
      "metadata": {},
      "outputs": [
        {
          "data": {
            "text/plain": [
              "True"
            ]
          },
          "execution_count": 9,
          "metadata": {},
          "output_type": "execute_result"
        }
      ],
      "source": [
        "import os\n",
        "os.path.exists(r'C:\\\\Users\\\\lizha\\\\Desktop\\\\maddata\\\\archive\\\\train\\\\FAKE\\\\\\\\1000 (2).jpg')"
      ]
    },
    {
      "cell_type": "code",
      "execution_count": 10,
      "metadata": {
        "colab": {
          "base_uri": "https://localhost:8080/"
        },
        "id": "0IqVA-dYo6Ca",
        "outputId": "328f9cda-d071-4cb1-94c8-10ddae41898a"
      },
      "outputs": [
        {
          "data": {
            "image/jpeg": "[encoded data removed]",
            "image/png": "[encoded data removed]",
            "text/plain": [
              "<PIL.JpegImagePlugin.JpegImageFile image mode=RGB size=32x32>"
            ]
          },
          "execution_count": 10,
          "metadata": {},
          "output_type": "execute_result"
        }
      ],
      "source": [
        "# with open(\"MadData/CIFAKE/train/FAKE\") as image_path:\n",
        "#   cv2.imread(image_path)\n",
        "\n",
        "\n",
        "PIL.Image.open(r'C:\\\\Users\\\\lizha\\\\Desktop\\\\maddata\\\\archive\\\\train\\\\FAKE\\\\\\\\1000 (2).jpg')"
      ]
    },
    {
      "cell_type": "code",
      "execution_count": 11,
      "metadata": {
        "colab": {
          "base_uri": "https://localhost:8080/"
        },
        "id": "pP-x4MvlDC6z",
        "outputId": "e3498a61-75ff-4c6c-9fb9-e5ac587200ce"
      },
      "outputs": [
        {
          "data": {
            "text/plain": [
              "4"
            ]
          },
          "execution_count": 11,
          "metadata": {},
          "output_type": "execute_result"
        }
      ],
      "source": [
        "#Using cv2 to read image and preprocess\n",
        "image_df = []\n",
        "for image in df_train['path']:\n",
        "    # img not empty\n",
        "    \n",
        "    img = cv2.imread(image)\n",
        "    resized = cv2.resize(img,(32,32))\n",
        "    image_df.append(resized)\n",
        "image_array = np.array(image_df)\n",
        "X_train = image_array/255\n",
        "X_train.ndim"
      ]
    },
    {
      "cell_type": "code",
      "execution_count": 12,
      "metadata": {
        "colab": {
          "base_uri": "https://localhost:8080/",
          "height": 211
        },
        "id": "_FuRJWVNE5qE",
        "outputId": "d0950e26-155e-4e28-bb4f-a9a3436adc2f"
      },
      "outputs": [
        {
          "data": {
            "text/plain": [
              "4"
            ]
          },
          "execution_count": 12,
          "metadata": {},
          "output_type": "execute_result"
        }
      ],
      "source": [
        "image_ds = []\n",
        "for image in df_test['path']:\n",
        "    imge = cv2.imread(image)\n",
        "    resize = cv2.resize(imge,(32,32))\n",
        "    image_ds.append(resize)\n",
        "image_arry = np.array(image_ds)\n",
        "X_test = image_arry/255\n",
        "X_test.ndim"
      ]
    },
    {
      "cell_type": "code",
      "execution_count": 13,
      "metadata": {},
      "outputs": [
        {
          "data": {
            "text/plain": [
              "0    0\n",
              "1    0\n",
              "2    0\n",
              "3    0\n",
              "4    0\n",
              "Name: label, dtype: int64"
            ]
          },
          "execution_count": 13,
          "metadata": {},
          "output_type": "execute_result"
        }
      ],
      "source": [
        "y_train = df_train['label']\n",
        "y_train.head()"
      ]
    },
    {
      "cell_type": "code",
      "execution_count": 14,
      "metadata": {},
      "outputs": [
        {
          "data": {
            "text/plain": [
              "0    0\n",
              "1    0\n",
              "2    0\n",
              "3    0\n",
              "4    0\n",
              "Name: label, dtype: int64"
            ]
          },
          "execution_count": 14,
          "metadata": {},
          "output_type": "execute_result"
        }
      ],
      "source": [
        "y_test = df_test['label']\n",
        "y_test.head()"
      ]
    },
    {
      "cell_type": "code",
      "execution_count": null,
      "metadata": {},
      "outputs": [],
      "source": []
    },
    {
      "cell_type": "code",
      "execution_count": null,
      "metadata": {},
      "outputs": [],
      "source": []
    },
    {
      "cell_type": "code",
      "execution_count": null,
      "metadata": {},
      "outputs": [],
      "source": []
    },
    {
      "cell_type": "code",
      "execution_count": 15,
      "metadata": {
        "colab": {
          "base_uri": "https://localhost:8080/",
          "height": 176
        },
        "id": "tMDngokNWyiZ",
        "outputId": "f2d1783a-489c-4c10-c433-4a90fbf57ad8"
      },
      "outputs": [
        {
          "name": "stdout",
          "output_type": "stream",
          "text": [
            "WARNING:tensorflow:From C:\\Users\\lizha\\AppData\\Local\\Packages\\PythonSoftwareFoundation.Python.3.11_qbz5n2kfra8p0\\LocalCache\\local-packages\\Python311\\site-packages\\keras\\src\\backend.py:873: The name tf.get_default_graph is deprecated. Please use tf.compat.v1.get_default_graph instead.\n",
            "\n",
            "WARNING:tensorflow:From C:\\Users\\lizha\\AppData\\Local\\Packages\\PythonSoftwareFoundation.Python.3.11_qbz5n2kfra8p0\\LocalCache\\local-packages\\Python311\\site-packages\\keras\\src\\layers\\pooling\\max_pooling2d.py:161: The name tf.nn.max_pool is deprecated. Please use tf.nn.max_pool2d instead.\n",
            "\n",
            "WARNING:tensorflow:From C:\\Users\\lizha\\AppData\\Local\\Packages\\PythonSoftwareFoundation.Python.3.11_qbz5n2kfra8p0\\LocalCache\\local-packages\\Python311\\site-packages\\keras\\src\\optimizers\\__init__.py:309: The name tf.train.Optimizer is deprecated. Please use tf.compat.v1.train.Optimizer instead.\n",
            "\n",
            "Epoch 1/5\n",
            "WARNING:tensorflow:From C:\\Users\\lizha\\AppData\\Local\\Packages\\PythonSoftwareFoundation.Python.3.11_qbz5n2kfra8p0\\LocalCache\\local-packages\\Python311\\site-packages\\keras\\src\\utils\\tf_utils.py:492: The name tf.ragged.RaggedTensorValue is deprecated. Please use tf.compat.v1.ragged.RaggedTensorValue instead.\n",
            "\n",
            "WARNING:tensorflow:From C:\\Users\\lizha\\AppData\\Local\\Packages\\PythonSoftwareFoundation.Python.3.11_qbz5n2kfra8p0\\LocalCache\\local-packages\\Python311\\site-packages\\keras\\src\\engine\\base_layer_utils.py:384: The name tf.executing_eagerly_outside_functions is deprecated. Please use tf.compat.v1.executing_eagerly_outside_functions instead.\n",
            "\n",
            "3125/3125 [==============================] - 23s 7ms/step - loss: 0.3875 - accuracy: 0.8240\n",
            "Epoch 2/5\n",
            "3125/3125 [==============================] - 22s 7ms/step - loss: 0.2623 - accuracy: 0.8926\n",
            "Epoch 3/5\n",
            "3125/3125 [==============================] - 21s 7ms/step - loss: 0.2277 - accuracy: 0.9086\n",
            "Epoch 4/5\n",
            "3125/3125 [==============================] - 22s 7ms/step - loss: 0.2066 - accuracy: 0.9172\n",
            "Epoch 5/5\n",
            "3125/3125 [==============================] - 22s 7ms/step - loss: 0.1944 - accuracy: 0.9231\n"
          ]
        },
        {
          "data": {
            "text/plain": [
              "<keras.src.callbacks.History at 0x214464f2010>"
            ]
          },
          "execution_count": 15,
          "metadata": {},
          "output_type": "execute_result"
        }
      ],
      "source": [
        "\n",
        "model = models.Sequential([\n",
        "    layers.Conv2D(filters = 80 , kernel_size = (3,3),activation = 'relu',input_shape= (32,32,3)),\n",
        "    layers.MaxPool2D((2,2)),\n",
        "    layers.Conv2D(filters = 40 , kernel_size = (3,3),activation = 'relu'),\n",
        "    layers.MaxPool2D((2,2)),\n",
        "    layers.Conv2D(filters = 20 , kernel_size = (3,3),activation = 'relu'),\n",
        "    layers.MaxPool2D((2,2)),\n",
        "\n",
        "    layers.Flatten(),\n",
        "    layers.Dense(10,activation = 'relu'),\n",
        "    layers.Dense(2,activation = 'sigmoid'),\n",
        "                         ])\n",
        "\n",
        "model.compile(\n",
        "    optimizer = 'adam',\n",
        "    loss= 'sparse_categorical_crossentropy',\n",
        "    metrics = ['accuracy']\n",
        "             )\n",
        "\n",
        "model.fit(X_train,y_train, epochs = 5)\n",
        "\n"
      ]
    },
    {
      "cell_type": "code",
      "execution_count": 16,
      "metadata": {},
      "outputs": [
        {
          "name": "stdout",
          "output_type": "stream",
          "text": [
            "625/625 [==============================] - 2s 3ms/step - loss: 0.1886 - accuracy: 0.9226\n"
          ]
        },
        {
          "data": {
            "text/plain": [
              "[0.18857745826244354, 0.9226499795913696]"
            ]
          },
          "execution_count": 16,
          "metadata": {},
          "output_type": "execute_result"
        }
      ],
      "source": [
        "model.evaluate(X_test,y_test)"
      ]
    },
    {
      "cell_type": "code",
      "execution_count": 17,
      "metadata": {},
      "outputs": [
        {
          "name": "stdout",
          "output_type": "stream",
          "text": [
            "625/625 [==============================] - 2s 3ms/step\n"
          ]
        },
        {
          "data": {
            "text/plain": [
              "[0, 0, 0, 0, 0]"
            ]
          },
          "execution_count": 17,
          "metadata": {},
          "output_type": "execute_result"
        }
      ],
      "source": [
        "y_pred  = model.predict(X_test)\n",
        "y_pred_label = [np.argmax(i) for i in y_pred]\n",
        "y_pred_label[:5]"
      ]
    },
    {
      "cell_type": "code",
      "execution_count": 18,
      "metadata": {},
      "outputs": [],
      "source": [
        "from sklearn.metrics import confusion_matrix\n",
        "\n",
        "cm = confusion_matrix(y_test , y_pred_label)"
      ]
    },
    {
      "cell_type": "code",
      "execution_count": 19,
      "metadata": {
        "id": "nPKL6YtToE71"
      },
      "outputs": [
        {
          "name": "stdout",
          "output_type": "stream",
          "text": [
            "Classification Report     : \n",
            "\n",
            "\n",
            "               precision    recall  f1-score   support\n",
            "\n",
            "           0       0.93      0.91      0.92     10000\n",
            "           1       0.92      0.93      0.92     10000\n",
            "\n",
            "    accuracy                           0.92     20000\n",
            "   macro avg       0.92      0.92      0.92     20000\n",
            "weighted avg       0.92      0.92      0.92     20000\n",
            "\n"
          ]
        }
      ],
      "source": [
        "from sklearn.metrics import classification_report\n",
        "\n",
        "print('Classification Report     : \\n\\n\\n' , classification_report(y_test,y_pred_label))\n"
      ]
    },
    {
      "cell_type": "code",
      "execution_count": 20,
      "metadata": {},
      "outputs": [
        {
          "data": {
            "image/png": "[encoded data removed]",
            "text/plain": [
              "<Figure size 400x400 with 2 Axes>"
            ]
          },
          "metadata": {},
          "output_type": "display_data"
        }
      ],
      "source": [
        "import seaborn as sn\n",
        "\n",
        "\n",
        "plt.figure(figsize=(4, 4), facecolor='lightblue', edgecolor='darkblue')\n",
        "sn.heatmap(cm , annot= True, fmt=\"d\")\n",
        "plt.xlabel('Prediction')\n",
        "plt.ylabel('Truth')\n",
        "plt.show()"
      ]
    },
    {
      "cell_type": "code",
      "execution_count": 21,
      "metadata": {},
      "outputs": [
        {
          "data": {
            "text/plain": [
              "<keras.src.engine.sequential.Sequential at 0x214417d59d0>"
            ]
          },
          "execution_count": 21,
          "metadata": {},
          "output_type": "execute_result"
        }
      ],
      "source": [
        "model\n"
      ]
    },
    {
      "cell_type": "code",
      "execution_count": 22,
      "metadata": {},
      "outputs": [
        {
          "name": "stdout",
          "output_type": "stream",
          "text": [
            "INFO:tensorflow:Assets written to: model/ai_imageclassifier\\assets\n"
          ]
        },
        {
          "name": "stderr",
          "output_type": "stream",
          "text": [
            "INFO:tensorflow:Assets written to: model/ai_imageclassifier\\assets\n"
          ]
        },
        {
          "ename": "NameError",
          "evalue": "name 'tf' is not defined",
          "output_type": "error",
          "traceback": [
            "\u001b[1;31m---------------------------------------------------------------------------\u001b[0m",
            "\u001b[1;31mNameError\u001b[0m                                 Traceback (most recent call last)",
            "Cell \u001b[1;32mIn[22], line 6\u001b[0m\n\u001b[0;32m      2\u001b[0m \u001b[38;5;28;01mfrom\u001b[39;00m \u001b[38;5;21;01mkeras\u001b[39;00m\u001b[38;5;21;01m.\u001b[39;00m\u001b[38;5;21;01mmodels\u001b[39;00m \u001b[38;5;28;01mimport\u001b[39;00m load_model\n\u001b[0;32m      4\u001b[0m model\u001b[38;5;241m.\u001b[39msave(\u001b[38;5;124m'\u001b[39m\u001b[38;5;124mmodel/ai_imageclassifier\u001b[39m\u001b[38;5;124m'\u001b[39m, save_format\u001b[38;5;241m=\u001b[39m\u001b[38;5;124m'\u001b[39m\u001b[38;5;124mtf\u001b[39m\u001b[38;5;124m'\u001b[39m)\n\u001b[1;32m----> 6\u001b[0m loaded_model \u001b[38;5;241m=\u001b[39m \u001b[43mtf\u001b[49m\u001b[38;5;241m.\u001b[39mkeras\u001b[38;5;241m.\u001b[39mmodels\u001b[38;5;241m.\u001b[39mload_model(\u001b[38;5;124m'\u001b[39m\u001b[38;5;124mmodel/ai_imageclassifier\u001b[39m\u001b[38;5;124m'\u001b[39m)\n",
            "\u001b[1;31mNameError\u001b[0m: name 'tf' is not defined"
          ]
        }
      ],
      "source": [
        "from tensorflow.keras.models import load_model\n",
        "from keras.models import load_model\n",
        "\n",
        "model.save('model/ai_imageclassifier', save_format='tf')\n",
        "\n",
        "loaded_model = tensorflow.keras.models.load_model('model/ai_imageclassifier')"
      ]
    },
    {
      "cell_type": "code",
      "execution_count": null,
      "metadata": {},
      "outputs": [],
      "source": []
    },
    {
      "cell_type": "code",
      "execution_count": null,
      "metadata": {},
      "outputs": [],
      "source": []
    },
    {
      "cell_type": "code",
      "execution_count": null,
      "metadata": {},
      "outputs": [],
      "source": []
    },
    {
      "cell_type": "code",
      "execution_count": null,
      "metadata": {},
      "outputs": [],
      "source": []
    }
  ],
  "metadata": {
    "colab": {
      "machine_shape": "hm",
      "provenance": []
    },
    "kernelspec": {
      "display_name": "Python 3",
      "name": "python3"
    },
    "language_info": {
      "codemirror_mode": {
        "name": "ipython",
        "version": 3
      },
      "file_extension": ".py",
      "mimetype": "text/x-python",
      "name": "python",
      "nbconvert_exporter": "python",
      "pygments_lexer": "ipython3",
      "version": "3.11.8"
    }
  },
  "nbformat": 4,
  "nbformat_minor": 0
}
